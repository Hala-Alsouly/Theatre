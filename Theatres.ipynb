{
 "cells": [
  {
   "cell_type": "code",
   "execution_count": null,
   "metadata": {},
   "outputs": [],
   "source": [
    "# Import our packages\n",
    "import random\n",
    "import numpy as np\n",
    "import matplotlib.pyplot as plt\n",
    "import pandas as pd"
   ]
  },
  {
   "cell_type": "code",
   "execution_count": null,
   "metadata": {},
   "outputs": [],
   "source": [
    "# read from csv file\n",
    "# read data\n",
    "df= pd.read_csv('https://raw.githubusercontent.com/Hala-Alsouly/Theatre/main/Theaters.csv')\n",
    "df.head()"
   ]
  },
  {
   "cell_type": "markdown",
   "metadata": {},
   "source": [
    "# Simulating a dynamic dataset as a real life dataset per/week"
   ]
  },
  {
   "cell_type": "markdown",
   "metadata": {},
   "source": [
    "### Step 1: Use Movie, Branch, and Theaters Type list that used to create dataset"
   ]
  },
  {
   "cell_type": "code",
   "execution_count": null,
   "metadata": {},
   "outputs": [],
   "source": [
    "# Movie List\n",
    "# DATA:         Movie Name  | Age Rating\n",
    "movies = [[\"Limitless\", \"PG-13\"], \n",
    "          [\"Taken\", \"PG-13\"], \n",
    "          [\"The Old Guard\", \"R\"],\n",
    "          [\"Mr. & Mrs. Smith\", \"PG-13\"],\n",
    "          [\"Focus\", \"+16\"],\n",
    "          [\"Raya and the Last Dragon\", \"PG\"],\n",
    "          [\"Rush Hour 3\", \"PG-13\"]]\n",
    "# Branchs and size of the each branch based on the number of screens have\n",
    "#  DATA:       Branch Location  | VIP | Standard | MAX\n",
    "branchs =  [[\"Riyadh\", 2, 5, 2], \n",
    "            [\"Dammam\", 1, 3, 1], \n",
    "            [\"Jeddah\", 1, 4, 1]]\n",
    "# Theater Types based on capacity and ticket cost\n",
    "# DATA:         Type Name  | Seats  | Adult Cost  | Child Cost | Senior Cost\n",
    "theatersType = [[\"VIP\",      60,  40, 30, 30],\n",
    "                [\"Standard\", 120, 20, 15, 15],\n",
    "                [\"MAX\",      180, 25, 20, 15]]"
   ]
  },
  {
   "cell_type": "markdown",
   "metadata": {},
   "source": [
    "### Step 2: Create function to generate the dataset"
   ]
  },
  {
   "cell_type": "code",
   "execution_count": null,
   "metadata": {},
   "outputs": [],
   "source": [
    "# This function generate a theaters data set for multiple branch by passing branchs and theatersTypes\n",
    "def generateDataSet(branchs, theatersType, movies):\n",
    "    # Initialize the dataset columns to empty state\n",
    "    branch_col = []\n",
    "    theater_num_col = []\n",
    "    type_col = []\n",
    "    seats_col = []\n",
    "    adult_cost_col = []\n",
    "    child_cost_col = []\n",
    "    senior_cost_col = []\n",
    "    movie_name_col = []\n",
    "    movie_rating_age_col = []\n",
    "    show_number_col = []\n",
    "    \n",
    "    # Loop over branchs and theatersType to create dataset\n",
    "    for row in range(len(branchs)):\n",
    "        \n",
    "        # Count theater number for each branch in total including all types of theater (VIP, Standard, Max)\n",
    "        countTheater = 0\n",
    "        screensCount = 0\n",
    "        for col in range(1,len(branchs[row])):\n",
    "            # total screen for each theater type and covert the string digit to integer number\n",
    "            screensCount = branchs[row][col]\n",
    "\n",
    "            # calculate the total of all screens for each branch\n",
    "            countTheater += screensCount\n",
    "\n",
    "            # Loading the data for each column\n",
    "            type_col        += [theatersType[col-1][0] for i in range(screensCount)]\n",
    "            seats_col       += [theatersType[col-1][1] for i in range(screensCount)]\n",
    "            adult_cost_col  += [theatersType[col-1][2] for i in range(screensCount)]\n",
    "            child_cost_col  += [theatersType[col-1][3] for i in range(screensCount)]\n",
    "            senior_cost_col += [theatersType[col-1][4] for i in range(screensCount)]\n",
    "        \n",
    "        # Create random movies assign for each theater\n",
    "        for movie in  range(countTheater):\n",
    "            # Get a random movie form Movies List in the top\n",
    "            random_movie_index = random.randrange(1, len(movies))\n",
    "\n",
    "            # Loading and assign random movies to each theater\n",
    "            movie_name_col.append(movies[random_movie_index][0])\n",
    "            movie_rating_age_col.append(movies[random_movie_index][1])\n",
    "            show_number_col.append(random.randrange(1, 4))\n",
    "\n",
    "        # List of theaters number for all branch\n",
    "        branch_col      += [branchs[row][0] for i in range(countTheater)]\n",
    "        theater_num_col += [i for i in range(1,countTheater+1)]\n",
    "        \n",
    "    dataset = {\n",
    "        \"Branch\"         : branch_col,\n",
    "        \"Theater.Number\" : theater_num_col,\n",
    "        \"Type\"           : type_col,\n",
    "        \"Seats\"          : seats_col,\n",
    "        \"Adult.Cost\"     : adult_cost_col,\n",
    "        \"ChildCost\"      : child_cost_col,\n",
    "        \"ChildCost\"      : child_cost_col,\n",
    "        \"SeniorCost\"     : senior_cost_col,\n",
    "        \"Movie_Name\"     : movie_name_col,\n",
    "        \"Age.Rating\"     : movie_rating_age_col,\n",
    "        \"Show_Number\"    : show_number_col\n",
    "    }\n",
    "    return dataset"
   ]
  },
  {
   "cell_type": "markdown",
   "metadata": {},
   "source": [
    "### Step 3: Call the generate function"
   ]
  },
  {
   "cell_type": "code",
   "execution_count": null,
   "metadata": {},
   "outputs": [],
   "source": [
    "#load data into a DataFrame object:\n",
    "dataset = generateDataSet(branchs, theatersType, movies)\n",
    "dataset"
   ]
  },
  {
   "cell_type": "markdown",
   "metadata": {},
   "source": [
    "# 1. Create snacks that the customers can buy and randomize who buys which snack"
   ]
  },
  {
   "cell_type": "code",
   "execution_count": null,
   "metadata": {},
   "outputs": [],
   "source": [
    "################################## Snacks Function #####################################\n",
    "\n",
    "# the function takes snacks data frame to store the sales on it, Branch name, theater number\n",
    "# and takes number of visitors.It is return the total revenue of the day for a theater.\n",
    "def snacksF(BranchName, TheaterN, visitorsN):\n",
    "    #snacks prices\n",
    "    prices= [6, 8, 10, 8, 7, 9]\n",
    "    #create a vector of sold snacks\n",
    "    snack = random.sample(range(10,visitorsN), 6)\n",
    "    #calculate the sales of snacks for a screen\n",
    "    snacksSales= np.array(snack) @ np.array(prices)\n",
    "    #bind it with the branch and theater\n",
    "    snack= [BranchName, TheaterN,snack]\n",
    "    return snacksSales,snack"
   ]
  },
  {
   "cell_type": "code",
   "execution_count": null,
   "metadata": {},
   "outputs": [],
   "source": [
    "# calculate the Discount for sunday: 35%\n",
    "def sundayDiscount(ticketCost,people):\n",
    "    total = ticketCost * people\n",
    "    # calculate the Discount for senior and students: 35%\n",
    "    discountedTicket = total * 0.35\n",
    "    # calculate the total after apply the Discount\n",
    "    total = total - discountedTicket\n",
    "\n",
    "    return total"
   ]
  },
  {
   "cell_type": "code",
   "execution_count": null,
   "metadata": {},
   "outputs": [],
   "source": [
    "###### return revenue after discount\n",
    "def discount(ticketCost,people):\n",
    "    total = ticketCost * people\n",
    "    #calculate the Discount for senior and students: 10%\n",
    "    discountedTicket = total * 0.1\n",
    "    # calculate the total after apply the Discount\n",
    "    total = total - discountedTicket\n",
    "    return total"
   ]
  },
  {
   "cell_type": "code",
   "execution_count": null,
   "metadata": {},
   "outputs": [],
   "source": [
    "'''\n",
    " This function takes theater dataframe, then generates random\n",
    " number of visitors for each branch, each theatre, each day, each show time. In addition, call snack\n",
    " function to generate random snacks, then save it in snacks dataframe.\n",
    " It is return a datafram of the generated visitors and generated snacks.\n",
    "'''\n",
    "def runTheatre(theatredf):\n",
    "    #create visitors dataframe to store the number of visitors\n",
    "    column_names=['Branch', 'Theater', 'Day', 'Show', 'nAdults', 'nChildren', 'nStudents', 'nSenior']\n",
    "    visitordf= pd.DataFrame(columns = column_names)\n",
    "\n",
    "    #create revenue dataframe to store the total revenue for each theatre in each day\n",
    "    col_names=['Branch', 'Theater', 'Day', 'Show', 'AdultsR', 'ChildrenR', 'StudentsR', 'SeniorR', 'snacksSales']\n",
    "    revenusdf= pd.DataFrame(columns = col_names)\n",
    "\n",
    "    #Create snacks dataframe to store the sales\n",
    "    snacksDF = pd.DataFrame(columns = [])\n",
    "\n",
    "    #Iterate through days\n",
    "    for day in range(1,8):\n",
    "        #row= np.zeros(6)\n",
    "        \n",
    "        #iterate through theatres\n",
    "        for j in range(len(df)):\n",
    "            \n",
    "            #iterae by shows numbers\n",
    "            for show in range(1,df['Shows'][j]+1):\n",
    "                # store the number of visitors each iteration\n",
    "                row= np.array([df['Branch'][j],df['Theater'][j], day, show ,0,0,0,0], dtype=object)\n",
    "                # store the revenue for each iteration\n",
    "                Rrow= np.array([df['Branch'][j],df['Theater'][j], day, show ,0,0,0,0,0], dtype=object)\n",
    "\n",
    "                # The least visitor accepted is 30\n",
    "                startSeat=30\n",
    "                # if it is weekend increase the visiting chance\n",
    "                if day in range(5,8):\n",
    "                    startSeat= df['seats'][j] // 2\n",
    "                adults= np.random.randint(low=startSeat, high=df['seats'][j])\n",
    "                availableSeats= df['seats'][j] - adults\n",
    "\n",
    "                #generate students sample from the previous adults\n",
    "                students= np.random.randint(low=0, high= adults//2)\n",
    "                row[6]= students\n",
    "\n",
    "                adults-= students\n",
    "\n",
    "                #generate senior sample from the previous adult\n",
    "                senior= np.random.randint(low=0, high= adults//4)\n",
    "                row[7]= senior\n",
    "\n",
    "                adults-= senior\n",
    "                row[4]= adults\n",
    "\n",
    "                # conditional statements for movies that children are allowed to watch\n",
    "                if( df['AgeRate'][j] == \"PG\" or df['AgeRate'][j] == \"PG-13\"):\n",
    "                    children= np.random.randint(low=0, high= availableSeats)\n",
    "                    row[5]= children\n",
    "                    availableSeats-= children\n",
    "\n",
    "                #Apply 35% Sunday discount\n",
    "                if day==1:\n",
    "                    Rrow[4]= sundayDiscount(df['AdultCost'][j],adults)\n",
    "                    Rrow[5]= sundayDiscount(df['ChildCost'][j],children)\n",
    "                    Rrow[6]= sundayDiscount(df['AdultCost'][j],students)\n",
    "                    Rrow[7]= sundayDiscount(df['SeniorCost'][j],senior)\n",
    "                else:\n",
    "                    Rrow[4]= adults * df['AdultCost'][j]\n",
    "                    Rrow[5]= children * df['ChildCost'][j]\n",
    "                    # 10% discount for students\n",
    "                    Rrow[6]= discount(df['AdultCost'][j],students)\n",
    "                    # 10% discount for senior on Friday\n",
    "                    if day == 6:\n",
    "                        Rrow[7]= discount(df['SeniorCost'][j],senior)\n",
    "                    else:\n",
    "                        Rrow[7]= senior * df['SeniorCost'][j]\n",
    "                    \n",
    "                \n",
    "                # call  snacks function to generate snacks\n",
    "                sales, snack = snacksF(df['Branch'][j], df['Theater'][j], df['seats'][j]-availableSeats)\n",
    "                #add it to the dataframe\n",
    "                snacksDF =snacksDF.append({'Branch':snack[0],\n",
    "                                        'Theater':snack[1],\n",
    "                                        'Small Popcorn':snack[2][0],\n",
    "                                        'Medium Popcorn':snack[2][1],\n",
    "                                        'Large Popcorn':snack[2][2],\n",
    "                                        'Icecream':snack[2][3],\n",
    "                                        'Soft Drink':snack[2][4],\n",
    "                                        'Frozen':snack[2][5]}, ignore_index=True)\n",
    "                Rrow[8]= float(sales)\n",
    "\n",
    "                # append the geneated visitors to the dataframe\n",
    "                visitordf.loc[len(visitordf.index)] = row\n",
    "\n",
    "                # append the revenues to the dataframe\n",
    "                revenusdf.loc[len(revenusdf.index)] = Rrow\n",
    "\n",
    "                \n",
    "    return visitordf, snacksDF, revenusdf"
   ]
  },
  {
   "cell_type": "code",
   "execution_count": null,
   "metadata": {},
   "outputs": [],
   "source": [
    "'''\n",
    " This function takes revenues dataframe, and a filter. It is returend a grouped data by filters.\n",
    " If no filter applyed then it returns the sum for each revenues column\n",
    "'''\n",
    "\n",
    "def  calculateRevenues(revenuedf, filter=False):\n",
    "    # if no filter selected then calculate the total revenue\n",
    "    df= revenuedf\n",
    "    if filter==False:\n",
    "        df= revenuedf[['AdultsR', 'ChildrenR', 'StudentsR', 'SeniorR', 'snacksSales']]\n",
    "        df= df.sum()\n",
    "        print('total Revenues =', df.to_numpy().sum())\n",
    "    \n",
    "    #apply filters\n",
    "    elif filter== 'Day':\n",
    "        df= df.groupby('Day').sum()\n",
    "    elif filter == 'Branch':\n",
    "        df= df.groupby('Branch').sum()\n",
    "    elif filter== 'Show':\n",
    "        df= df.groupby('Show').sum()\n",
    "\n",
    "    return df\n",
    "\n",
    "v,s, r = runTheatre(df)\n",
    "dfTotalEach= calculateRevenues(r,'Day')\n",
    "print(dfTotalEach)"
   ]
  }
 ],
 "metadata": {
  "kernelspec": {
   "display_name": "Python 3",
   "language": "python",
   "name": "python3"
  },
  "language_info": {
   "codemirror_mode": {
    "name": "ipython",
    "version": 3
   },
   "file_extension": ".py",
   "mimetype": "text/x-python",
   "name": "python",
   "nbconvert_exporter": "python",
   "pygments_lexer": "ipython3",
   "version": "3.9.6"
  },
  "varInspector": {
   "cols": {
    "lenName": 16,
    "lenType": 16,
    "lenVar": 40
   },
   "kernels_config": {
    "python": {
     "delete_cmd_postfix": "",
     "delete_cmd_prefix": "del ",
     "library": "var_list.py",
     "varRefreshCmd": "print(var_dic_list())"
    },
    "r": {
     "delete_cmd_postfix": ") ",
     "delete_cmd_prefix": "rm(",
     "library": "var_list.r",
     "varRefreshCmd": "cat(var_dic_list()) "
    }
   },
   "types_to_exclude": [
    "module",
    "function",
    "builtin_function_or_method",
    "instance",
    "_Feature"
   ],
   "window_display": false
  }
 },
 "nbformat": 4,
 "nbformat_minor": 2
}
