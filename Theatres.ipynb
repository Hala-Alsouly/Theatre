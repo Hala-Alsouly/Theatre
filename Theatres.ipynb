{
 "cells": [
  {
   "cell_type": "code",
   "execution_count": 1,
   "metadata": {},
   "outputs": [],
   "source": [
    "# Import our packages\n",
    "import random\n",
    "import numpy as np\n",
    "import matplotlib.pyplot as plt\n",
    "import pandas as pd"
   ]
  },
  {
   "cell_type": "code",
   "execution_count": null,
   "metadata": {},
   "outputs": [],
   "source": [
    "# read from csv file\n",
    "# read data\n",
    "df= pd.read_csv('https://raw.githubusercontent.com/Hala-Alsouly/Theatre/main/Theaters.csv')\n",
    "df.head()"
   ]
  },
  {
   "cell_type": "code",
   "execution_count": 4,
   "metadata": {},
   "outputs": [],
   "source": [
    "'''\n",
    " This function takes theater dataframe and snack datafram, then generates random\n",
    " number of visitors for each branch, each theatre, each day, each show time.\n",
    " It is return a datafram of the generated info.\n",
    "'''\n",
    "def runTheatre(theatredf, snackdf):\n",
    "    column_names=['Branch', 'Theater', 'Day', 'Show', 'nAdults', 'nChildren', 'nStusents', 'nSenior']\n",
    "    revenudf= pd.DataFrame(columns = column_names)\n",
    "    #Iterate through days\n",
    "    for day in range(1,8):\n",
    "        #row= np.zeros(6)\n",
    "        \n",
    "        #iterate through theatres\n",
    "        for j in range(len(df)):\n",
    "            \n",
    "            #iterae by shows numbers\n",
    "            for show in range(1,df['Shows'][j]+1):\n",
    "                row= np.array([df['Branch'][j],df['Theater'][j], day, show ,0,0,0,0], dtype=object)\n",
    "\n",
    "                # The least visitor accepted is 30\n",
    "                startSeat=30\n",
    "                # if it is weekend increase the visiting chance\n",
    "                if day in range(5,8):\n",
    "                    startSeat= df['seats'][j] // 2\n",
    "                adults= np.random.randint(low=startSeat, high=df['seats'][j])\n",
    "                availableSeats= df['seats'][j] - adults\n",
    "\n",
    "                #generate students sample from the previous adults\n",
    "                students= np.random.randint(low=0, high= adults//2)\n",
    "                row[6]= students\n",
    "\n",
    "                adults-= students\n",
    "\n",
    "                #generate senior sample from the previous adult\n",
    "                senior= np.random.randint(low=0, high= adults//4)\n",
    "                row[7]= senior\n",
    "\n",
    "                adults-= senior\n",
    "                row[4]= adults\n",
    "\n",
    "                # conditional statements for movies that children are allowed to watch\n",
    "                if( df['AgeRate'][j] == \"PG\" or df['AgeRate'][j] == \"PG-13\"):\n",
    "                    children= np.random.randint(low=0, high= availableSeats)\n",
    "                    row[5]= children\n",
    "                    \n",
    "                # append the geneated visitors to the dataframe\n",
    "                revenudf.loc[len(revenudf.index)] = row\n",
    "                \n",
    "    return revenudf"
   ]
  }
 ],
 "metadata": {
  "kernelspec": {
   "display_name": "Python 3",
   "language": "python",
   "name": "python3"
  },
  "language_info": {
   "codemirror_mode": {
    "name": "ipython",
    "version": 3
   },
   "file_extension": ".py",
   "mimetype": "text/x-python",
   "name": "python",
   "nbconvert_exporter": "python",
   "pygments_lexer": "ipython3",
   "version": "3.7.1"
  }
 },
 "nbformat": 4,
 "nbformat_minor": 2
}
