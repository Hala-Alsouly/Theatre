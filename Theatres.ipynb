{
 "cells": [
  {
   "cell_type": "code",
   "execution_count": 1,
   "metadata": {},
   "outputs": [],
   "source": [
    "# Import our packages\n",
    "import random\n",
    "import numpy as np\n",
    "import matplotlib.pyplot as plt\n",
    "import pandas as pd"
   ]
  },
  {
   "cell_type": "code",
   "execution_count": 2,
   "metadata": {},
   "outputs": [
    {
     "data": {
      "text/html": [
       "<div>\n",
       "<style scoped>\n",
       "    .dataframe tbody tr th:only-of-type {\n",
       "        vertical-align: middle;\n",
       "    }\n",
       "\n",
       "    .dataframe tbody tr th {\n",
       "        vertical-align: top;\n",
       "    }\n",
       "\n",
       "    .dataframe thead th {\n",
       "        text-align: right;\n",
       "    }\n",
       "</style>\n",
       "<table border=\"1\" class=\"dataframe\">\n",
       "  <thead>\n",
       "    <tr style=\"text-align: right;\">\n",
       "      <th></th>\n",
       "      <th>Branch</th>\n",
       "      <th>Theater</th>\n",
       "      <th>Type</th>\n",
       "      <th>seats</th>\n",
       "      <th>AdultCost</th>\n",
       "      <th>ChildCost</th>\n",
       "      <th>Movie</th>\n",
       "      <th>AgeRate</th>\n",
       "      <th>Shows</th>\n",
       "    </tr>\n",
       "  </thead>\n",
       "  <tbody>\n",
       "    <tr>\n",
       "      <th>0</th>\n",
       "      <td>Riyadh</td>\n",
       "      <td>1</td>\n",
       "      <td>VIP</td>\n",
       "      <td>60</td>\n",
       "      <td>20</td>\n",
       "      <td>15</td>\n",
       "      <td>Limitless</td>\n",
       "      <td>PG-13</td>\n",
       "      <td>3</td>\n",
       "    </tr>\n",
       "    <tr>\n",
       "      <th>1</th>\n",
       "      <td>Riyadh</td>\n",
       "      <td>2</td>\n",
       "      <td>Standard</td>\n",
       "      <td>120</td>\n",
       "      <td>15</td>\n",
       "      <td>10</td>\n",
       "      <td>The Old Guard</td>\n",
       "      <td>R</td>\n",
       "      <td>2</td>\n",
       "    </tr>\n",
       "    <tr>\n",
       "      <th>2</th>\n",
       "      <td>Riyadh</td>\n",
       "      <td>3</td>\n",
       "      <td>Standard</td>\n",
       "      <td>120</td>\n",
       "      <td>15</td>\n",
       "      <td>10</td>\n",
       "      <td>Raya and the Last Dragon</td>\n",
       "      <td>PG</td>\n",
       "      <td>4</td>\n",
       "    </tr>\n",
       "    <tr>\n",
       "      <th>3</th>\n",
       "      <td>Riyadh</td>\n",
       "      <td>4</td>\n",
       "      <td>MAX</td>\n",
       "      <td>200</td>\n",
       "      <td>17</td>\n",
       "      <td>12</td>\n",
       "      <td>Rush Hour 3</td>\n",
       "      <td>PG-13</td>\n",
       "      <td>2</td>\n",
       "    </tr>\n",
       "    <tr>\n",
       "      <th>4</th>\n",
       "      <td>Riyadh</td>\n",
       "      <td>5</td>\n",
       "      <td>Standard</td>\n",
       "      <td>120</td>\n",
       "      <td>15</td>\n",
       "      <td>10</td>\n",
       "      <td>Focus</td>\n",
       "      <td>16</td>\n",
       "      <td>1</td>\n",
       "    </tr>\n",
       "  </tbody>\n",
       "</table>\n",
       "</div>"
      ],
      "text/plain": [
       "   Branch  Theater      Type  seats  AdultCost  ChildCost  \\\n",
       "0  Riyadh        1       VIP     60         20         15   \n",
       "1  Riyadh        2  Standard    120         15         10   \n",
       "2  Riyadh        3  Standard    120         15         10   \n",
       "3  Riyadh        4       MAX    200         17         12   \n",
       "4  Riyadh        5  Standard    120         15         10   \n",
       "\n",
       "                      Movie AgeRate  Shows  \n",
       "0                 Limitless   PG-13      3  \n",
       "1             The Old Guard       R      2  \n",
       "2  Raya and the Last Dragon      PG      4  \n",
       "3               Rush Hour 3   PG-13      2  \n",
       "4                     Focus      16      1  "
      ]
     },
     "execution_count": 2,
     "metadata": {},
     "output_type": "execute_result"
    }
   ],
   "source": [
    "# read from csv file\n",
    "# read data\n",
    "df= pd.read_csv('https://raw.githubusercontent.com/Hala-Alsouly/Theatre/main/Theaters.csv')\n",
    "df.head()"
   ]
  },
  {
   "cell_type": "markdown",
   "metadata": {},
   "source": [
    "# 1. Create snacks that the customers can buy and randomize who buys which snack"
   ]
  },
  {
   "cell_type": "code",
   "execution_count": 3,
   "metadata": {
    "scrolled": true
   },
   "outputs": [
    {
     "name": "stdout",
     "output_type": "stream",
     "text": [
      "Empty DataFrame\n",
      "Columns: []\n",
      "Index: []\n"
     ]
    }
   ],
   "source": [
    "###################################### Snacks ##########################################\n",
    "\n",
    "#Create snacks dataframe to store the sales\n",
    "snacksDF = pd.DataFrame(columns = [])\n",
    "\n",
    "#Print the data  \n",
    "print(snacksDF)  "
   ]
  },
  {
   "cell_type": "code",
   "execution_count": 4,
   "metadata": {},
   "outputs": [],
   "source": [
    "################################## Snacks Function #####################################\n",
    "\n",
    "# the function takes snacks data frame to store the sales on it, Branch name, theater number\n",
    "# and takes number of visitors.It is return the total revenue of the day for a theater.\n",
    "def snacksF(snacksDF, BranchName, TheaterN, visitorsN):\n",
    "    #snacks prices\n",
    "    prices= [6, 8, 10, 8, 7, 9]\n",
    "    #create a vector of sold snacks\n",
    "    snack = random.sample(range(0,visitorsN), 6)\n",
    "    #calculate the sales of snacks for a screen\n",
    "    snacksSales= np.array(snack) @ np.array(prices)\n",
    "    #bind it with the branch and theater\n",
    "    snack= [BranchName, TheaterN,snack]\n",
    "    return snacksSales,snack"
   ]
  },
  {
   "cell_type": "code",
   "execution_count": 5,
   "metadata": {},
   "outputs": [],
   "source": [
    "#Note this will add to the revenue function\n",
    "sales, snack = snacksF(snacksDF, \"BranchName\", \"TheaterN\", 30)\n",
    "\n",
    "#add it to the dataframe\n",
    "snacksDF =snacksDF.append({'Branch':snack[0],\n",
    "                           'Theater':snack[1],\n",
    "                           'Small Popcorn':snack[2][0],\n",
    "                           'Medium Popcorn':snack[2][1],\n",
    "                           'Large Popcorn':snack[2][2],\n",
    "                           'Icecream':snack[2][3],\n",
    "                           'Soft Drink':snack[2][4],\n",
    "                           'Frozen':snack[2][5]}, ignore_index=True)"
   ]
  },
  {
   "cell_type": "code",
   "execution_count": 6,
   "metadata": {},
   "outputs": [],
   "source": [
    "'''\n",
    " This function takes theater dataframe and snack dataframe, then generates random\n",
    " number of visitors for each branch, each theatre, each day, each show time.\n",
    " It is return a dataframe of the generated info.\n",
    "'''\n",
    "def runTheatre(theatredf, snackdf):\n",
    "    column_names=['Branch', 'Theater', 'Day', 'Show', 'nAdults', 'nChildren', 'nStusents', 'nSenior']\n",
    "    revenudf= pd.DataFrame(columns = column_names)\n",
    "    #Iterate through days\n",
    "    for day in range(1,8):\n",
    "        #row= np.zeros(6)\n",
    "        \n",
    "        #iterate through theatres\n",
    "        for j in range(len(df)):\n",
    "            \n",
    "            #iterae by shows numbers\n",
    "            for show in range(1,df['Shows'][j]+1):\n",
    "                row= np.array([df['Branch'][j],df['Theater'][j], day, show ,0,0,0,0], dtype=object)\n",
    "\n",
    "                # The least visitor accepted is 30\n",
    "                startSeat=30\n",
    "                # if it is weekend increase the visiting chance\n",
    "                if day in range(5,8):\n",
    "                    startSeat= df['seats'][j] // 2\n",
    "                adults= np.random.randint(low=startSeat, high=df['seats'][j])\n",
    "                availableSeats= df['seats'][j] - adults\n",
    "\n",
    "                #generate students sample from the previous adults\n",
    "                students= np.random.randint(low=0, high= adults//2)\n",
    "                row[6]= students\n",
    "\n",
    "                adults-= students\n",
    "\n",
    "                #generate senior sample from the previous adult\n",
    "                senior= np.random.randint(low=0, high= adults//4)\n",
    "                row[7]= senior\n",
    "\n",
    "                adults-= senior\n",
    "                row[4]= adults\n",
    "\n",
    "                # conditional statements for movies that children are allowed to watch\n",
    "                if( df['AgeRate'][j] == \"PG\" or df['AgeRate'][j] == \"PG-13\"):\n",
    "                    children= np.random.randint(low=0, high= availableSeats)\n",
    "                    row[5]= children\n",
    "                    \n",
    "                # append the geneated visitors to the dataframe\n",
    "                revenudf.loc[len(revenudf.index)] = row\n",
    "                \n",
    "    return revenudf"
   ]
  },
  {
   "cell_type": "markdown",
   "metadata": {},
   "source": [
    "# calculate the Discount for senior and students: 10%"
   ]
  },
  {
   "cell_type": "code",
   "execution_count": null,
   "metadata": {},
   "outputs": [],
   "source": [
    "###### return number of students, revenue\n",
    "def discount (ticketCost,people):\n",
    "    \n",
    "    total = ticketCost * people\n",
    "    # calculate the Discount for senior and students: 10%\n",
    "    discountedTicket = total * 0.1 \n",
    "    # calculate the total after apply the Discount \n",
    "    total = total - discountedTicket\n",
    "    \n",
    "    print(\"Discount : \",discountedTicket)\n",
    "    print(\"Number of people:\",people)\n",
    "    print(\"Total Revenue  : \",total)\n",
    "   \n",
    "    return (discountedTicket,total)\n",
    "    \n",
    "    \n",
    "#a,b = discount(ticketCost,senior)\n",
    "#a,b = discount(ticketCost,students)\n",
    "    "
   ]
  },
  {
   "cell_type": "markdown",
   "metadata": {},
   "source": [
    "# calculate the Discount for sunday: 35%"
   ]
  },
  {
   "cell_type": "code",
   "execution_count": null,
   "metadata": {},
   "outputs": [],
   "source": [
    "def sundayDiscount (ticketCost,people):\n",
    "    \n",
    "    total = ticketCost * people\n",
    "    # calculate the Discount for senior and students: 35%\n",
    "    discountedTicket = total * 0.35 \n",
    "    # calculate the total after apply the Discount \n",
    "    total = total - discountedTicket\n",
    "    \n",
    "    print(\"Discount : \",discountedTicket)\n",
    "    print(\"Number of people:\",people)\n",
    "    print(\"Total Revenue  : \",total)\n",
    "   \n",
    "    return (discountedTicket,total)\n",
    "    \n",
    "\n",
    "#a,b = sundayDiscount(ticketCost,senior)\n"
   ]
  }
 ],
 "metadata": {
  "kernelspec": {
   "display_name": "Python 3",
   "language": "python",
   "name": "python3"
  },
  "language_info": {
   "codemirror_mode": {
    "name": "ipython",
    "version": 3
   },
   "file_extension": ".py",
   "mimetype": "text/x-python",
   "name": "python",
   "nbconvert_exporter": "python",
   "pygments_lexer": "ipython3",
   "version": "3.8.8"
  },
  "varInspector": {
   "cols": {
    "lenName": 16,
    "lenType": 16,
    "lenVar": 40
   },
   "kernels_config": {
    "python": {
     "delete_cmd_postfix": "",
     "delete_cmd_prefix": "del ",
     "library": "var_list.py",
     "varRefreshCmd": "print(var_dic_list())"
    },
    "r": {
     "delete_cmd_postfix": ") ",
     "delete_cmd_prefix": "rm(",
     "library": "var_list.r",
     "varRefreshCmd": "cat(var_dic_list()) "
    }
   },
   "types_to_exclude": [
    "module",
    "function",
    "builtin_function_or_method",
    "instance",
    "_Feature"
   ],
   "window_display": false
  }
 },
 "nbformat": 4,
 "nbformat_minor": 2
}
